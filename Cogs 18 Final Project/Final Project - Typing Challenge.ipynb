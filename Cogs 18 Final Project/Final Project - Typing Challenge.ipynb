{
 "cells": [
  {
   "cell_type": "markdown",
   "metadata": {},
   "source": [
    "# Project Description: Typing Challenge"
   ]
  },
  {
   "cell_type": "markdown",
   "metadata": {},
   "source": [
    "For my project, I decided to make a program that challenges the user to pass one of four typing challenges of different difficulty levels, with a way to retry a level or switch to another if they succeed.\n",
    "\n",
    "I used the time module in order to have the program print out text with a delay between messages, and the threading module to add a timer for the challenge. I made a function for each difficulty, as well as a specific time-running-out function to be called in each difficulty function. Finally, I made a function for the user to choose their difficulty and a function that introduces the challenge and is used to start the code."
   ]
  },
  {
   "cell_type": "markdown",
   "metadata": {},
   "source": [
    "Run this cell to begin."
   ]
  },
  {
   "cell_type": "code",
   "execution_count": null,
   "metadata": {},
   "outputs": [],
   "source": [
    "from my_module.functions import *\n",
    "start()"
   ]
  },
  {
   "cell_type": "markdown",
   "metadata": {},
   "source": [
    "*Extra Credit Section*\n",
    "1. I had absolutely zero experience with python before this class, only a few stints with HTML in middle and high school.\n",
    "\n",
    "2. This project really doesn't go above and beyond anything, so I won't argue for extra credit."
   ]
  }
 ],
 "metadata": {
  "kernelspec": {
   "display_name": "Python 3",
   "language": "python",
   "name": "python3"
  },
  "language_info": {
   "codemirror_mode": {
    "name": "ipython",
    "version": 3
   },
   "file_extension": ".py",
   "mimetype": "text/x-python",
   "name": "python",
   "nbconvert_exporter": "python",
   "pygments_lexer": "ipython3",
   "version": "3.6.7"
  }
 },
 "nbformat": 4,
 "nbformat_minor": 2
}
